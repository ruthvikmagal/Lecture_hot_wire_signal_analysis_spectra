{
 "cells": [
  {
   "cell_type": "markdown",
   "id": "acbfba5a-1898-469d-a097-6a43f09f9833",
   "metadata": {},
   "source": [
    "The aim of this exercise is to analyse statistics of a hot wire experiment dataset.\n",
    "\n",
    "The first step is to visualise the voltage time series. Then we build a calibration function to obtain the resulting velocity time series. We may then perform statistical analysis to evaluate statistical convergence.\n",
    "\n",
    "I am importing the necessary python packages first"
   ]
  },
  {
   "cell_type": "code",
   "execution_count": 1,
   "id": "41be2e13-658e-41fc-b412-99f97d8c13cd",
   "metadata": {},
   "outputs": [],
   "source": [
    "# Importing packages\n",
    "import os # Required to navigate files/folders\n",
    "import numpy as np # Required for handling of matrices and statistical operations.\n",
    "import matplotlib.pyplot as plt # Plotting library\n",
    "import matplotlib.ticker as ticker # Tools for tick placement\n",
    "import seaborn as sns # Optional. I like to use seaborn colour palettes"
   ]
  },
  {
   "cell_type": "markdown",
   "id": "0ab0deb4-7cc3-4311-85bb-0c5121ac2aa7",
   "metadata": {},
   "source": [
    "I like to specify fonts for my plots right at the beginning. So I'm going to do that:"
   ]
  },
  {
   "cell_type": "code",
   "execution_count": 2,
   "id": "dc3bbb5e-ad6c-45b1-9aef-358fa8c4a6cc",
   "metadata": {},
   "outputs": [],
   "source": [
    "# Plot settings\n",
    "plt.rcParams.update({'font.size' : 18, 'font.family' : 'serif', \"text.usetex\": True}) # I have chosen my font family and I have enabled the LaTeX interpreter.\n",
    "colours=sns.color_palette(palette='Set1')\n",
    "dpi = 100"
   ]
  },
  {
   "cell_type": "raw",
   "id": "380ed38c-16cc-4e0c-b2eb-4034bab70de3",
   "metadata": {},
   "source": [
    "Let us now load the timeseries (saved in the file 'Timeseries.txt') and visualise it."
   ]
  },
  {
   "cell_type": "code",
   "execution_count": 3,
   "id": "aff11da6-b36c-4eac-a99d-de5666bef94e",
   "metadata": {},
   "outputs": [],
   "source": [
    "# Timeseries import\n",
    "signal = np.loadtxt('Timeseries.txt', delimiter=None, converters=None, skiprows=0, usecols=None, unpack=False, ndmin=0, encoding=None, max_rows=None)"
   ]
  },
  {
   "cell_type": "markdown",
   "id": "9bfe42b5-0aca-4dee-bf8d-96c9e0a923c3",
   "metadata": {},
   "source": [
    "I now create the time vector on the basis of the acquisition frequency and sample count"
   ]
  },
  {
   "cell_type": "code",
   "execution_count": 4,
   "id": "ad24cac9-e570-48c5-9bf2-7cf06509a14a",
   "metadata": {},
   "outputs": [],
   "source": [
    "# Acquisition parameters\n",
    "num_samples = len(signal)\n",
    "sampling_freq = 10000\n",
    "dt = 1/sampling_freq\n",
    "\n",
    "# Time vector definition\n",
    "time = np.linspace(0,(num_samples-1)*dt,num_samples) # Linspace (start, stop, number of samples)\n"
   ]
  },
  {
   "cell_type": "markdown",
   "id": "c473c141-9151-4d18-93d1-8a45ee61414b",
   "metadata": {},
   "source": [
    "I can now make a line plot to visualise our signal (ugly graph, but we'll worry about aesthetics when we get to plotting velocity)."
   ]
  },
  {
   "cell_type": "code",
   "execution_count": null,
   "id": "39e4c013-cc49-4f31-b494-d423f89bfece",
   "metadata": {},
   "outputs": [],
   "source": [
    "# Plot to visualise timeseries\n",
    "max_x = 5*(np.floor_divide(np.max(time),5)+1)\n",
    "fig1, ax = plt.subplots(figsize=(10, 4), dpi=dpi)\n",
    "ax.plot(time, signal, alpha = 1, label='Voltage timeseries', linewidth=0.5, color=colours[1])\n",
    "ax.set_xlim([0,max_x])\n",
    "ax.set_ylim([np.min(signal)-0.0005,np.max(signal)+0.0005])\n",
    "ax.set_xticks(np.arange(0,max_x,5))\n",
    "ax.set_yticks(np.arange(np.min(signal),np.max(signal),0.005))\n",
    "ax.set_ylabel(r'Voltage (V)', fontsize=16) \n",
    "ax.set_xlabel(r'Time (s)',fontsize=16)  # label the y axis\n",
    "plt.grid(True)\n",
    "fig1.savefig('voltage_timeseries.png', dpi=600,bbox_inches=\"tight\")\n",
    "plt.show() \n"
   ]
  },
  {
   "cell_type": "markdown",
   "id": "faf87cf2-f9ec-406b-af92-99e3ab552ee1",
   "metadata": {},
   "source": [
    "We need to convert this voltage timeseries to a velocity timeseries.\n",
    "\n",
    "Let us write a calibration function to extract the calibration coefficients. In this example, I will fit the calibration data to a 3rd order polynomial. \n",
    "\n",
    "You are encouraged to try different polynomial orders and functions (King's law, modified King's Law, etc.)\n",
    "\n",
    "In your final report, include an analysis of the goodness of fit."
   ]
  },
  {
   "cell_type": "code",
   "execution_count": null,
   "id": "d857e85b-3ec3-4083-bbda-9fdaebb0fa9a",
   "metadata": {},
   "outputs": [],
   "source": [
    "# Define calibration points (stencil)\n",
    "cal_vel = [0,0.87,1.98,3.43,5.49,8.21,10.42,16.44] # Velocity list in m/s\n",
    "order = 3 # Order of polynomial function for calibration\n",
    "\n",
    "def calibrate_poly(cal_vel, order):\n",
    "    volt_avg = []  # Initialise voltage array\n",
    "    for vel in cal_vel:\n",
    "        buffer = np.loadtxt('Calib/'+str(vel)+'.txt')  # Load the voltage timeseires for each velocity \n",
    "        volt_avg.append(np.abs(np.mean(buffer)))               # Calculate time-averaged voltage value\n",
    "\n",
    "    coeffs=np.polyfit(volt_avg,cal_vel,order)             # Fit to a polynomial of order \"order\"\n",
    "    print('Calibration function is:'+str(coeffs[0])+'x^3 + '+str(coeffs[1])+'x^2 + '+str(coeffs[2])+'x + '+str(coeffs[3]))\n",
    "    return(coeffs, volt_avg)\n",
    "\n",
    "calib, volts = calibrate_poly(cal_vel, order)  # Perform a calibration fitting using the defined calibration function"
   ]
  },
  {
   "cell_type": "markdown",
   "id": "5cf603d4-d6d2-4086-95e7-01bd22828656",
   "metadata": {},
   "source": [
    "Let's plot the resulting calibration curve to evaluate the fit qualitatively:"
   ]
  },
  {
   "cell_type": "code",
   "execution_count": null,
   "id": "58bb863c-5064-448b-a42c-607d5f29c518",
   "metadata": {},
   "outputs": [],
   "source": [
    "# Initialise a velocity vector to visualise calibration\n",
    "voltsy=np.linspace(0,np.ceil(np.max(volts)/0.5)*0.5, 1000)\n",
    "velx= np.polyval(calib, voltsy)\n",
    "\n",
    "# Plot the calibration curve and calibration points\n",
    "fig2, ax = plt.subplots(figsize=(6, 6), dpi=dpi)\n",
    "ax.scatter(cal_vel, np.abs(volts), s=50, alpha=0.7, color=colours[1], edgecolors= \"black\")\n",
    "ax.plot(velx, voltsy, alpha=0.8, linewidth=2, color=\"black\")\n",
    "ax.set_xlim([0,np.max(velx)])\n",
    "ax.set_ylim([np.min(volts),np.max(voltsy)])\n",
    "ax.set_xlabel(r'Velocity (m/s)', fontsize=16) \n",
    "ax.set_ylabel(r'Voltage $E$ (V)',fontsize=16)  \n",
    "ax.set_title(r'Calibration Curve',fontsize=18)  \n",
    "ax.xaxis.set_major_locator(ticker.MultipleLocator(5))\n",
    "ax.xaxis.set_major_formatter(ticker.FormatStrFormatter(\"%.0f\"))\n",
    "ax.xaxis.set_minor_locator(ticker.MultipleLocator(1))\n",
    "ax.xaxis.set_minor_formatter(plt.NullFormatter())\n",
    "ax.yaxis.set_major_locator(ticker.MultipleLocator(0.5))\n",
    "ax.yaxis.set_major_formatter(ticker.FormatStrFormatter(\"%.2f\"))\n",
    "ax.yaxis.set_minor_locator(ticker.MultipleLocator(0.1))\n",
    "ax.yaxis.set_minor_formatter(plt.NullFormatter())\n",
    "ax.tick_params(axis=\"both\", which=\"major\")\n",
    "plt.grid(True,  which='major')\n",
    "plt.grid(True,  which='minor', linestyle='--', alpha=0.5)\n",
    "fig2.savefig('calibration.png', dpi=600,bbox_inches=\"tight\")\n",
    "plt.show() "
   ]
  },
  {
   "cell_type": "markdown",
   "id": "a2e2752c-f3c6-4a68-89d1-2ec016c28aae",
   "metadata": {},
   "source": [
    "What do you think of the obtained fit? How does it behave at low velocities where data points are sparse? How it does behave when extrapolated to velocities higher than the highest calibrated value? Do you see signs of over-fitting?\n",
    "\n",
    "Exercise: Try fitting polynomials of various orders. Try fitting a physical model - King's Law/ Modified King's Law.\n",
    "\n",
    "Let's have a quantitative estimate of the fitting operation by analysing the mean squared error:"
   ]
  },
  {
   "cell_type": "code",
   "execution_count": null,
   "id": "34aa98c4-dd6a-4cd9-b110-3b6481b2f083",
   "metadata": {},
   "outputs": [],
   "source": [
    "# Evaluate the calibration function at the calibration points\n",
    "model_vel = np.polyval(calib,volts)\n",
    "# Evaluate the Mean Square Error (MSE)\n",
    "MSE = np.square(np.subtract(cal_vel,model_vel)).mean()\n",
    "print(\"Mean Square Error (MSE) = \"+str(MSE)+\" (m/s)^2\")\n",
    "print(\"This corresponds to an average velocity estimation error of \"+str(np.round(np.sqrt(MSE),3))+\" m/s due to the fitting\")"
   ]
  },
  {
   "cell_type": "markdown",
   "id": "abdcd123-291c-427a-b15b-284ff488687d",
   "metadata": {},
   "source": [
    "Is this error acceptable? How does it compare to the velocity magnitudes for the intended measurement? How does this error compare to the error in obtaining the calibration velocities in the first place (error in velocity estimation from the Prandtl probe)?\n",
    "\n",
    "Now that we have a set of calibration coefficients, we can convert our original acquired voltage timeseries into a velocity timeseries.\n",
    "\n",
    "Note: If the voltage timeseries has been subjected to analog pre-amplification, we need to convert the amplified vvalues to calibration levels."
   ]
  },
  {
   "cell_type": "code",
   "execution_count": null,
   "id": "cb95a503-737e-4d9c-ae17-400fe8e6d67d",
   "metadata": {},
   "outputs": [],
   "source": [
    "# Define amplification parameters \n",
    "gain = 10\n",
    "offset = 4\n",
    "\n",
    "# Convert the timeseries to calibration form\n",
    "signal=gain*(signal-offset)\n",
    "\n",
    "# Apply the calibration\n",
    "U=np.polyval(calib,np.abs(signal))\n",
    "\n",
    "# Plot the velocity timeseries\n",
    "max_x = 5*(np.floor_divide(np.max(time),5)+1)\n",
    "fig3, ax = plt.subplots(figsize=(10, 4), dpi=dpi)\n",
    "ax.plot(time, U, alpha = 1, label='Voltage timeseries', linewidth=0.5, color=colours[1])\n",
    "ax.set_xlim([0,max_x])\n",
    "ax.set_ylim([np.min(U),np.max(U)])\n",
    "ax.set_xticks(np.arange(0,max_x,5))\n",
    "ax.yaxis.set_major_locator(ticker.MultipleLocator(0.025))\n",
    "ax.yaxis.set_major_formatter(ticker.FormatStrFormatter(\"%.3f\"))\n",
    "ax.yaxis.set_minor_locator(ticker.MultipleLocator(0.01))\n",
    "ax.yaxis.set_minor_formatter(plt.NullFormatter())\n",
    "ax.set_ylabel(r'$U$ (m/s)', fontsize=16) \n",
    "ax.set_xlabel(r'Time (s)',fontsize=16)  # label the y axis\n",
    "plt.grid(True)\n",
    "fig3.savefig('velocity_timeseries.png', dpi=600,bbox_inches=\"tight\")\n",
    "plt.show() "
   ]
  },
  {
   "cell_type": "code",
   "execution_count": null,
   "id": "99796db4-934e-4613-90cc-47494b625d6d",
   "metadata": {},
   "outputs": [],
   "source": []
  }
 ],
 "metadata": {
  "kernelspec": {
   "display_name": "Python 3 (ipykernel)",
   "language": "python",
   "name": "python3"
  },
  "language_info": {
   "codemirror_mode": {
    "name": "ipython",
    "version": 3
   },
   "file_extension": ".py",
   "mimetype": "text/x-python",
   "name": "python",
   "nbconvert_exporter": "python",
   "pygments_lexer": "ipython3",
   "version": "3.12.2"
  }
 },
 "nbformat": 4,
 "nbformat_minor": 5
}
